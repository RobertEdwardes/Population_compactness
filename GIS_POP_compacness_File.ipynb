{
 "cells": [
  {
   "cell_type": "markdown",
   "metadata": {},
   "source": [
    "### Import Pagckages/Create Def"
   ]
  },
  {
   "cell_type": "code",
   "execution_count": 1,
   "metadata": {},
   "outputs": [
    {
     "name": "stderr",
     "output_type": "stream",
     "text": [
      "C:\\ProgramData\\Anaconda3\\lib\\site-packages\\geopandas\\_compat.py:111: UserWarning: The Shapely GEOS version (3.9.0-CAPI-1.14.1) is incompatible with the GEOS version PyGEOS was compiled with (3.9.1-CAPI-1.14.2). Conversions between both will be slow.\n",
      "  warnings.warn(\n"
     ]
    }
   ],
   "source": [
    "import pandas as pd\n",
    "import geopandas as gpd\n",
    "import os\n",
    "from math import radians, cos, sin, asin, sqrt, atan2\n",
    "import pyodbc\n",
    "import numpy as np\n",
    "from shapely.geometry import Polygon, MultiPoint, Point\n",
    "from shapely.ops import nearest_points\n",
    "from sklearn.cluster import KMeans\n",
    "from sklearn.cluster import MiniBatchKMeans"
   ]
  },
  {
   "cell_type": "code",
   "execution_count": 2,
   "metadata": {},
   "outputs": [],
   "source": [
    "def distance(lat1, lat2, lon1, lon2):\n",
    "     \n",
    "    # The math module contains a function named\n",
    "    # radians which converts from degrees to radians.\n",
    "    lon1 = radians(lon1)\n",
    "    lon2 = radians(lon2)\n",
    "    lat1 = radians(lat1)\n",
    "    lat2 = radians(lat2)\n",
    "      \n",
    "    # Haversine formula\n",
    "    dlon = lon2 - lon1\n",
    "    dlat = lat2 - lat1\n",
    "    a = sin(dlat / 2)**2 + cos(lat1) * cos(lat2) * sin(dlon / 2)**2\n",
    " \n",
    "    c = 2 * asin(sqrt(a))\n",
    "    \n",
    "    # Radius of earth in kilometers. Use 3956 for miles\n",
    "    r = 6371\n",
    "      \n",
    "    # calculate the result in KM\n",
    "    return(c * r)"
   ]
  },
  {
   "cell_type": "markdown",
   "metadata": {},
   "source": [
    "### Load Datasets\n",
    "Required\n",
    "- Tabblock Centriod\n",
    "- Population \n",
    "- Poltical Geogrpahy"
   ]
  },
  {
   "cell_type": "code",
   "execution_count": 3,
   "metadata": {},
   "outputs": [],
   "source": [
    "os.chdir()\n",
    "gp_CD = gpd.read_file()"
   ]
  },
  {
   "cell_type": "code",
   "execution_count": 6,
   "metadata": {},
   "outputs": [],
   "source": [
    "#Import target level pop data\n",
    "conn = pyodbc.connect()\n",
    "df_blocks_data = pd.read_sql_query(f\"\"\"SELECT GEOCODE AS GEOID20\n",
    "      ,CAST([P0010004] as INT) AS POP100\n",
    "      ,CAST([INTPTLAT] as FLOAT) AS INTPTLAT\n",
    "      ,CAST([INTPTLON] AS FLOAT) AS INTPTLON\n",
    "  FROM [vw].[PL2020_BLK] WHERE [STUSAB] = 'IL'\"\"\",conn)"
   ]
  },
  {
   "cell_type": "code",
   "execution_count": 7,
   "metadata": {},
   "outputs": [],
   "source": [
    "#Import Poltical GEO / BAF\n",
    "pd_joiner = pd.read_csv()"
   ]
  },
  {
   "cell_type": "markdown",
   "metadata": {},
   "source": [
    "### Reformat/Build Datasets"
   ]
  },
  {
   "cell_type": "code",
   "execution_count": 8,
   "metadata": {},
   "outputs": [
    {
     "data": {
      "text/html": [
       "<div>\n",
       "<style scoped>\n",
       "    .dataframe tbody tr th:only-of-type {\n",
       "        vertical-align: middle;\n",
       "    }\n",
       "\n",
       "    .dataframe tbody tr th {\n",
       "        vertical-align: top;\n",
       "    }\n",
       "\n",
       "    .dataframe thead th {\n",
       "        text-align: right;\n",
       "    }\n",
       "</style>\n",
       "<table border=\"1\" class=\"dataframe\">\n",
       "  <thead>\n",
       "    <tr style=\"text-align: right;\">\n",
       "      <th></th>\n",
       "      <th>GEOID20</th>\n",
       "      <th>INTPTLAT20</th>\n",
       "      <th>INTPTLON20</th>\n",
       "      <th>geometry</th>\n",
       "    </tr>\n",
       "  </thead>\n",
       "  <tbody>\n",
       "    <tr>\n",
       "      <th>0</th>\n",
       "      <td>1701</td>\n",
       "      <td>+41.5466708</td>\n",
       "      <td>-087.8357472</td>\n",
       "      <td>POLYGON ((-88.13677 41.42285, -88.13633 41.422...</td>\n",
       "    </tr>\n",
       "    <tr>\n",
       "      <th>1</th>\n",
       "      <td>1718</td>\n",
       "      <td>+40.2271844</td>\n",
       "      <td>-090.0691183</td>\n",
       "      <td>POLYGON ((-91.51297 40.18106, -91.51283 40.181...</td>\n",
       "    </tr>\n",
       "    <tr>\n",
       "      <th>2</th>\n",
       "      <td>1707</td>\n",
       "      <td>+41.8633320</td>\n",
       "      <td>-087.7321218</td>\n",
       "      <td>POLYGON ((-87.91961 41.88220, -87.91960 41.882...</td>\n",
       "    </tr>\n",
       "    <tr>\n",
       "      <th>3</th>\n",
       "      <td>1702</td>\n",
       "      <td>+41.2562081</td>\n",
       "      <td>-087.7901148</td>\n",
       "      <td>POLYGON ((-88.25150 41.11422, -88.25144 41.114...</td>\n",
       "    </tr>\n",
       "    <tr>\n",
       "      <th>4</th>\n",
       "      <td>1714</td>\n",
       "      <td>+42.0255473</td>\n",
       "      <td>-088.4458531</td>\n",
       "      <td>POLYGON ((-88.71978 42.01944, -88.71935 42.019...</td>\n",
       "    </tr>\n",
       "  </tbody>\n",
       "</table>\n",
       "</div>"
      ],
      "text/plain": [
       "  GEOID20   INTPTLAT20    INTPTLON20  \\\n",
       "0    1701  +41.5466708  -087.8357472   \n",
       "1    1718  +40.2271844  -090.0691183   \n",
       "2    1707  +41.8633320  -087.7321218   \n",
       "3    1702  +41.2562081  -087.7901148   \n",
       "4    1714  +42.0255473  -088.4458531   \n",
       "\n",
       "                                            geometry  \n",
       "0  POLYGON ((-88.13677 41.42285, -88.13633 41.422...  \n",
       "1  POLYGON ((-91.51297 40.18106, -91.51283 40.181...  \n",
       "2  POLYGON ((-87.91961 41.88220, -87.91960 41.882...  \n",
       "3  POLYGON ((-88.25150 41.11422, -88.25144 41.114...  \n",
       "4  POLYGON ((-88.71978 42.01944, -88.71935 42.019...  "
      ]
     },
     "execution_count": 8,
     "metadata": {},
     "output_type": "execute_result"
    }
   ],
   "source": [
    "gp_CD_cols = [i for i in gp_CD.columns if i not in ['GEOID20','INTPTLAT20','INTPTLON20','geometry']]\n",
    "gp_CD = gp_CD.drop(columns=gp_CD_cols)\n",
    "gp_CD.head()"
   ]
  },
  {
   "cell_type": "code",
   "execution_count": 9,
   "metadata": {},
   "outputs": [],
   "source": [
    "df_pl94 = gpd.GeoDataFrame(df_blocks_data, geometry=gpd.points_from_xy(df_blocks_data.INTPTLON ,df_blocks_data.INTPTLAT))"
   ]
  },
  {
   "cell_type": "code",
   "execution_count": 10,
   "metadata": {},
   "outputs": [],
   "source": [
    "pd_joiner_cols = [i for i in pd_joiner.columns if i not in ['GEOID20','CD116_GEOID']]\n",
    "pd_joiner = pd_joiner.drop(columns=pd_joiner_cols)"
   ]
  },
  {
   "cell_type": "code",
   "execution_count": 11,
   "metadata": {},
   "outputs": [],
   "source": [
    "df_tabblock20_CDFP116 = df_pl94.merge(pd_joiner, on='GEOID20')"
   ]
  },
  {
   "cell_type": "markdown",
   "metadata": {},
   "source": [
    "### Population From Center\n",
    "This test uses a population centroid the boundary or the political district and the geographic centroid as a preliminary test to measure the distance from the center and exterior of a political district. This test is not to state whether a district is gerrymandered but to help fill out our understanding of the district compactness\n",
    "\n",
    "The messure takes the population center and the distance from the boundry and geography center to create a ratio between 0 and 1 with more compact districts being closer to 0"
   ]
  },
  {
   "cell_type": "code",
   "execution_count": 12,
   "metadata": {},
   "outputs": [
    {
     "name": "stderr",
     "output_type": "stream",
     "text": [
      "<ipython-input-12-36c397a2e0d0>:11: RuntimeWarning: invalid value encountered in true_divide\n",
      "  cdObj[cd]['wy'] = vy/m\n",
      "<ipython-input-12-36c397a2e0d0>:12: RuntimeWarning: invalid value encountered in true_divide\n",
      "  cdObj[cd]['wx'] = vx/m\n"
     ]
    }
   ],
   "source": [
    "dfList = list(set(df_tabblock20_CDFP116['CD116_GEOID'].tolist()))\n",
    "cdObj = {i: {'wx': None, 'wy':None, 'cx':None , 'cy':None} for i in  dfList}\n",
    "for cd in dfList:\n",
    "    df_cd = df_tabblock20_CDFP116[df_tabblock20_CDFP116['CD116_GEOID'] == cd]\n",
    "    m = df_cd['POP100'].sum()\n",
    "    vx = 0\n",
    "    vy = 0 \n",
    "    for row in df_cd.iterrows():\n",
    "        vy += row[1]['POP100']*row[1]['INTPTLAT'] \n",
    "        vx += row[1]['POP100']*row[1]['INTPTLON'] \n",
    "    cdObj[cd]['wy'] = vy/m\n",
    "    cdObj[cd]['wx'] = vx/m\n",
    "    cd_geo = gp_CD[gp_CD['GEOID20'] == cd]\n",
    "    cdObj[cd]['cy'] =  cd_geo.iloc[0]['INTPTLAT20']\n",
    "    cdObj[cd]['cx'] =  cd_geo.iloc[0]['INTPTLON20']\n",
    "df_centernoids = pd.DataFrame.from_dict(cdObj, orient='index')"
   ]
  },
  {
   "cell_type": "code",
   "execution_count": 13,
   "metadata": {},
   "outputs": [
    {
     "data": {
      "text/html": [
       "<div>\n",
       "<style scoped>\n",
       "    .dataframe tbody tr th:only-of-type {\n",
       "        vertical-align: middle;\n",
       "    }\n",
       "\n",
       "    .dataframe tbody tr th {\n",
       "        vertical-align: top;\n",
       "    }\n",
       "\n",
       "    .dataframe thead th {\n",
       "        text-align: right;\n",
       "    }\n",
       "</style>\n",
       "<table border=\"1\" class=\"dataframe\">\n",
       "  <thead>\n",
       "    <tr style=\"text-align: right;\">\n",
       "      <th></th>\n",
       "      <th>wx</th>\n",
       "      <th>wy</th>\n",
       "      <th>cx</th>\n",
       "      <th>cy</th>\n",
       "    </tr>\n",
       "  </thead>\n",
       "  <tbody>\n",
       "    <tr>\n",
       "      <th>1707</th>\n",
       "      <td>-87.722353</td>\n",
       "      <td>41.860745</td>\n",
       "      <td>-087.7321218</td>\n",
       "      <td>+41.8633320</td>\n",
       "    </tr>\n",
       "    <tr>\n",
       "      <th>1708</th>\n",
       "      <td>-88.120427</td>\n",
       "      <td>42.002132</td>\n",
       "      <td>-088.0967252</td>\n",
       "      <td>+42.0093710</td>\n",
       "    </tr>\n",
       "    <tr>\n",
       "      <th>1714</th>\n",
       "      <td>-88.281109</td>\n",
       "      <td>41.908338</td>\n",
       "      <td>-088.4458531</td>\n",
       "      <td>+42.0255473</td>\n",
       "    </tr>\n",
       "    <tr>\n",
       "      <th>1701</th>\n",
       "      <td>-87.643575</td>\n",
       "      <td>41.736597</td>\n",
       "      <td>-087.8357472</td>\n",
       "      <td>+41.5466708</td>\n",
       "    </tr>\n",
       "    <tr>\n",
       "      <th>1718</th>\n",
       "      <td>-89.802074</td>\n",
       "      <td>40.307093</td>\n",
       "      <td>-090.0691183</td>\n",
       "      <td>+40.2271844</td>\n",
       "    </tr>\n",
       "    <tr>\n",
       "      <th>1713</th>\n",
       "      <td>-89.031085</td>\n",
       "      <td>39.873223</td>\n",
       "      <td>-089.5198424</td>\n",
       "      <td>+39.5156354</td>\n",
       "    </tr>\n",
       "    <tr>\n",
       "      <th>1710</th>\n",
       "      <td>-87.890034</td>\n",
       "      <td>42.339133</td>\n",
       "      <td>-087.9399419</td>\n",
       "      <td>+42.2800147</td>\n",
       "    </tr>\n",
       "    <tr>\n",
       "      <th>1712</th>\n",
       "      <td>-89.906728</td>\n",
       "      <td>38.456525</td>\n",
       "      <td>-089.4278909</td>\n",
       "      <td>+37.9933075</td>\n",
       "    </tr>\n",
       "    <tr>\n",
       "      <th>1709</th>\n",
       "      <td>-87.692369</td>\n",
       "      <td>42.009767</td>\n",
       "      <td>-087.8101853</td>\n",
       "      <td>+42.0526844</td>\n",
       "    </tr>\n",
       "    <tr>\n",
       "      <th>1717</th>\n",
       "      <td>-89.694317</td>\n",
       "      <td>41.483692</td>\n",
       "      <td>-090.2186532</td>\n",
       "      <td>+41.3894669</td>\n",
       "    </tr>\n",
       "    <tr>\n",
       "      <th>1702</th>\n",
       "      <td>-87.629238</td>\n",
       "      <td>41.593187</td>\n",
       "      <td>-087.7901148</td>\n",
       "      <td>+41.2562081</td>\n",
       "    </tr>\n",
       "    <tr>\n",
       "      <th>1711</th>\n",
       "      <td>-88.158942</td>\n",
       "      <td>41.658438</td>\n",
       "      <td>-088.1474167</td>\n",
       "      <td>+41.6422523</td>\n",
       "    </tr>\n",
       "    <tr>\n",
       "      <th>1716</th>\n",
       "      <td>-88.915173</td>\n",
       "      <td>41.974615</td>\n",
       "      <td>-088.7991966</td>\n",
       "      <td>+41.3915234</td>\n",
       "    </tr>\n",
       "    <tr>\n",
       "      <th>1704</th>\n",
       "      <td>-87.752702</td>\n",
       "      <td>41.893886</td>\n",
       "      <td>-087.7100236</td>\n",
       "      <td>+41.8318687</td>\n",
       "    </tr>\n",
       "    <tr>\n",
       "      <th>1715</th>\n",
       "      <td>-88.282629</td>\n",
       "      <td>39.349422</td>\n",
       "      <td>-088.4420793</td>\n",
       "      <td>+38.9051694</td>\n",
       "    </tr>\n",
       "    <tr>\n",
       "      <th>1703</th>\n",
       "      <td>-87.833891</td>\n",
       "      <td>41.709276</td>\n",
       "      <td>-087.8919745</td>\n",
       "      <td>+41.6789774</td>\n",
       "    </tr>\n",
       "    <tr>\n",
       "      <th>1706</th>\n",
       "      <td>-88.132703</td>\n",
       "      <td>41.936491</td>\n",
       "      <td>-088.2199520</td>\n",
       "      <td>+42.1751138</td>\n",
       "    </tr>\n",
       "    <tr>\n",
       "      <th>1705</th>\n",
       "      <td>-87.737726</td>\n",
       "      <td>41.936636</td>\n",
       "      <td>-087.8309020</td>\n",
       "      <td>+41.9303655</td>\n",
       "    </tr>\n",
       "  </tbody>\n",
       "</table>\n",
       "</div>"
      ],
      "text/plain": [
       "             wx         wy            cx           cy\n",
       "1707 -87.722353  41.860745  -087.7321218  +41.8633320\n",
       "1708 -88.120427  42.002132  -088.0967252  +42.0093710\n",
       "1714 -88.281109  41.908338  -088.4458531  +42.0255473\n",
       "1701 -87.643575  41.736597  -087.8357472  +41.5466708\n",
       "1718 -89.802074  40.307093  -090.0691183  +40.2271844\n",
       "1713 -89.031085  39.873223  -089.5198424  +39.5156354\n",
       "1710 -87.890034  42.339133  -087.9399419  +42.2800147\n",
       "1712 -89.906728  38.456525  -089.4278909  +37.9933075\n",
       "1709 -87.692369  42.009767  -087.8101853  +42.0526844\n",
       "1717 -89.694317  41.483692  -090.2186532  +41.3894669\n",
       "1702 -87.629238  41.593187  -087.7901148  +41.2562081\n",
       "1711 -88.158942  41.658438  -088.1474167  +41.6422523\n",
       "1716 -88.915173  41.974615  -088.7991966  +41.3915234\n",
       "1704 -87.752702  41.893886  -087.7100236  +41.8318687\n",
       "1715 -88.282629  39.349422  -088.4420793  +38.9051694\n",
       "1703 -87.833891  41.709276  -087.8919745  +41.6789774\n",
       "1706 -88.132703  41.936491  -088.2199520  +42.1751138\n",
       "1705 -87.737726  41.936636  -087.8309020  +41.9303655"
      ]
     },
     "execution_count": 13,
     "metadata": {},
     "output_type": "execute_result"
    }
   ],
   "source": [
    "df_centernoids = df_centernoids.dropna(how='any')\n",
    "dfList = list(df_centernoids.index)\n",
    "df_centernoids.to_csv('basic_points.csv')\n",
    "df_centernoids.head(len(df_centernoids.index))"
   ]
  },
  {
   "cell_type": "code",
   "execution_count": 14,
   "metadata": {},
   "outputs": [],
   "source": [
    "df_wp = df_centernoids[['wy','wx']]\n",
    "df_wp = gpd.GeoDataFrame(df_wp, geometry = gpd.points_from_xy(df_wp.wx,df_wp.wy))\n",
    "df_cp = df_centernoids[['cy','cx']]\n",
    "df_cp = gpd.GeoDataFrame(df_cp, geometry = gpd.points_from_xy(df_cp.cx,df_cp.cy))\n",
    "df_cp = df_cp.set_crs('epsg:4269')\n",
    "df_wp = df_wp.set_crs('epsg:4269')"
   ]
  },
  {
   "cell_type": "code",
   "execution_count": 15,
   "metadata": {},
   "outputs": [],
   "source": [
    "district_profile = {i: {'pop_center':None,'pop_boundry':None} for i in  dfList}"
   ]
  },
  {
   "cell_type": "code",
   "execution_count": 16,
   "metadata": {},
   "outputs": [],
   "source": [
    "for dis in dfList:\n",
    "    df_c = df_cp[df_cp.index==dis]\n",
    "    df_w = df_wp[df_wp.index==dis]\n",
    "    district_profile[dis]['pop_center'] = distance(df_c['cy'],df_w['wy'],df_c['cx'],df_w['wx'])"
   ]
  },
  {
   "cell_type": "code",
   "execution_count": 17,
   "metadata": {},
   "outputs": [],
   "source": [
    "for dis in dfList:\n",
    "    gp_CD_init = gp_CD[gp_CD['GEOID20']==dis]\n",
    "    df_wp_dis = df_wp[df_wp.index==dis]\n",
    "    points2 = gp_CD_init.copy()\n",
    "    points2 = points2.to_crs('epsg:4269')\n",
    "    points2['geometry'] = points2.exterior\n",
    "    nearest_geoms = nearest_points(df_wp_dis.unary_union,points2.unary_union)\n",
    "    ear_idx0 = nearest_geoms[0]\n",
    "    ear_idx1 = nearest_geoms[1]\n",
    "    district_profile[dis]['pop_boundry'] = distance(ear_idx0.y,ear_idx1.y,ear_idx0.x,ear_idx1.x)\n",
    "    \n",
    "df_pointDistance = pd.DataFrame.from_dict(district_profile, orient='index')\n",
    "df_pointDistance['total_distance'] = df_pointDistance['pop_center']+df_pointDistance['pop_boundry']\n",
    "df_pointDistance['pop_compact'] = df_pointDistance['pop_center']/df_pointDistance['total_distance']"
   ]
  },
  {
   "cell_type": "code",
   "execution_count": 18,
   "metadata": {},
   "outputs": [
    {
     "data": {
      "text/html": [
       "<div>\n",
       "<style scoped>\n",
       "    .dataframe tbody tr th:only-of-type {\n",
       "        vertical-align: middle;\n",
       "    }\n",
       "\n",
       "    .dataframe tbody tr th {\n",
       "        vertical-align: top;\n",
       "    }\n",
       "\n",
       "    .dataframe thead th {\n",
       "        text-align: right;\n",
       "    }\n",
       "</style>\n",
       "<table border=\"1\" class=\"dataframe\">\n",
       "  <thead>\n",
       "    <tr style=\"text-align: right;\">\n",
       "      <th></th>\n",
       "      <th>pop_center</th>\n",
       "      <th>pop_boundry</th>\n",
       "      <th>total_distance</th>\n",
       "      <th>pop_compact</th>\n",
       "    </tr>\n",
       "  </thead>\n",
       "  <tbody>\n",
       "    <tr>\n",
       "      <th>1707</th>\n",
       "      <td>0.858633</td>\n",
       "      <td>1.233582</td>\n",
       "      <td>2.092215</td>\n",
       "      <td>0.410394</td>\n",
       "    </tr>\n",
       "    <tr>\n",
       "      <th>1708</th>\n",
       "      <td>2.117384</td>\n",
       "      <td>4.438609</td>\n",
       "      <td>6.555994</td>\n",
       "      <td>0.322969</td>\n",
       "    </tr>\n",
       "    <tr>\n",
       "      <th>1714</th>\n",
       "      <td>18.851531</td>\n",
       "      <td>0.553470</td>\n",
       "      <td>19.405001</td>\n",
       "      <td>0.971478</td>\n",
       "    </tr>\n",
       "    <tr>\n",
       "      <th>1701</th>\n",
       "      <td>26.476648</td>\n",
       "      <td>2.509163</td>\n",
       "      <td>28.985811</td>\n",
       "      <td>0.913435</td>\n",
       "    </tr>\n",
       "    <tr>\n",
       "      <th>1718</th>\n",
       "      <td>24.337591</td>\n",
       "      <td>17.631005</td>\n",
       "      <td>41.968596</td>\n",
       "      <td>0.579900</td>\n",
       "    </tr>\n",
       "    <tr>\n",
       "      <th>1713</th>\n",
       "      <td>57.703946</td>\n",
       "      <td>10.783898</td>\n",
       "      <td>68.487843</td>\n",
       "      <td>0.842543</td>\n",
       "    </tr>\n",
       "    <tr>\n",
       "      <th>1710</th>\n",
       "      <td>7.749515</td>\n",
       "      <td>2.313123</td>\n",
       "      <td>10.062639</td>\n",
       "      <td>0.770128</td>\n",
       "    </tr>\n",
       "    <tr>\n",
       "      <th>1712</th>\n",
       "      <td>66.351899</td>\n",
       "      <td>22.331290</td>\n",
       "      <td>88.683189</td>\n",
       "      <td>0.748190</td>\n",
       "    </tr>\n",
       "    <tr>\n",
       "      <th>1709</th>\n",
       "      <td>10.838032</td>\n",
       "      <td>2.144285</td>\n",
       "      <td>12.982316</td>\n",
       "      <td>0.834830</td>\n",
       "    </tr>\n",
       "    <tr>\n",
       "      <th>1717</th>\n",
       "      <td>44.947612</td>\n",
       "      <td>11.226406</td>\n",
       "      <td>56.174018</td>\n",
       "      <td>0.800149</td>\n",
       "    </tr>\n",
       "    <tr>\n",
       "      <th>1702</th>\n",
       "      <td>39.798820</td>\n",
       "      <td>4.200837</td>\n",
       "      <td>43.999657</td>\n",
       "      <td>0.904526</td>\n",
       "    </tr>\n",
       "    <tr>\n",
       "      <th>1711</th>\n",
       "      <td>2.038669</td>\n",
       "      <td>0.509261</td>\n",
       "      <td>2.547930</td>\n",
       "      <td>0.800127</td>\n",
       "    </tr>\n",
       "    <tr>\n",
       "      <th>1716</th>\n",
       "      <td>65.548183</td>\n",
       "      <td>16.825563</td>\n",
       "      <td>82.373747</td>\n",
       "      <td>0.795741</td>\n",
       "    </tr>\n",
       "    <tr>\n",
       "      <th>1704</th>\n",
       "      <td>7.748908</td>\n",
       "      <td>2.315626</td>\n",
       "      <td>10.064534</td>\n",
       "      <td>0.769922</td>\n",
       "    </tr>\n",
       "    <tr>\n",
       "      <th>1715</th>\n",
       "      <td>51.277653</td>\n",
       "      <td>51.547323</td>\n",
       "      <td>102.824976</td>\n",
       "      <td>0.498689</td>\n",
       "    </tr>\n",
       "    <tr>\n",
       "      <th>1703</th>\n",
       "      <td>5.882946</td>\n",
       "      <td>4.398433</td>\n",
       "      <td>10.281380</td>\n",
       "      <td>0.572194</td>\n",
       "    </tr>\n",
       "    <tr>\n",
       "      <th>1706</th>\n",
       "      <td>27.494074</td>\n",
       "      <td>0.615043</td>\n",
       "      <td>28.109117</td>\n",
       "      <td>0.978119</td>\n",
       "    </tr>\n",
       "    <tr>\n",
       "      <th>1705</th>\n",
       "      <td>7.739031</td>\n",
       "      <td>1.067814</td>\n",
       "      <td>8.806845</td>\n",
       "      <td>0.878752</td>\n",
       "    </tr>\n",
       "  </tbody>\n",
       "</table>\n",
       "</div>"
      ],
      "text/plain": [
       "      pop_center  pop_boundry  total_distance  pop_compact\n",
       "1707    0.858633     1.233582        2.092215     0.410394\n",
       "1708    2.117384     4.438609        6.555994     0.322969\n",
       "1714   18.851531     0.553470       19.405001     0.971478\n",
       "1701   26.476648     2.509163       28.985811     0.913435\n",
       "1718   24.337591    17.631005       41.968596     0.579900\n",
       "1713   57.703946    10.783898       68.487843     0.842543\n",
       "1710    7.749515     2.313123       10.062639     0.770128\n",
       "1712   66.351899    22.331290       88.683189     0.748190\n",
       "1709   10.838032     2.144285       12.982316     0.834830\n",
       "1717   44.947612    11.226406       56.174018     0.800149\n",
       "1702   39.798820     4.200837       43.999657     0.904526\n",
       "1711    2.038669     0.509261        2.547930     0.800127\n",
       "1716   65.548183    16.825563       82.373747     0.795741\n",
       "1704    7.748908     2.315626       10.064534     0.769922\n",
       "1715   51.277653    51.547323      102.824976     0.498689\n",
       "1703    5.882946     4.398433       10.281380     0.572194\n",
       "1706   27.494074     0.615043       28.109117     0.978119\n",
       "1705    7.739031     1.067814        8.806845     0.878752"
      ]
     },
     "execution_count": 18,
     "metadata": {},
     "output_type": "execute_result"
    }
   ],
   "source": [
    "df_pointDistance.to_csv('base_distance.csv')\n",
    "df_pointDistance.head(len(df_pointDistance.index))"
   ]
  },
  {
   "cell_type": "markdown",
   "metadata": {},
   "source": [
    "### Kmean Symmetry \n",
    "Using Kmean Clustering we create 2 groups using target communtiy population to find compact groups. We then take the Population Center test to create compartive metrics where the closer the 2 groups results are the more compact it is"
   ]
  },
  {
   "cell_type": "code",
   "execution_count": null,
   "metadata": {},
   "outputs": [],
   "source": [
    "simp_set_all = df_tabblock20_CDFP116.loc[:, ['GEOID20','POP100','INTPTLAT','INTPTLON','CD116_GEOID']]\n",
    "df_kcluster = pd.DataFrame(columns=['GEOID20','POP100','INTPTLAT','INTPTLON','CD116_GEOID','Cluster_label'])\n",
    "for cd in dfList:\n",
    "    simp = simp_set_all[simp_set_all['CD116_GEOID']==cd]\n",
    "    kmeans = KMeans(n_clusters = 2, n_init=50,max_iter=1000, init ='k-means++')\n",
    "    lat_long = simp[simp.columns[3:4]]\n",
    "    blk_size = simp[simp.columns[1]]\n",
    "    simp_kmean_clusters = kmeans.fit(lat_long,sample_weight=blk_size)\n",
    "    simp['Cluster_label'] = kmeans.predict(lat_long,sample_weight=blk_size)\n",
    "    simp['Cluster_label'] = simp['Cluster_label']+1\n",
    "    df_kcluster = df_kcluster.append(simp)"
   ]
  },
  {
   "cell_type": "code",
   "execution_count": null,
   "metadata": {},
   "outputs": [],
   "source": [
    "clusterN = [1,2]\n",
    "kcObj = {i: {'1':{},'2':{}} for i in  dfList}\n",
    "for cd in dfList:\n",
    "    for clu in clusterN:\n",
    "        df_k = df_kcluster[(df_kcluster['CD116_GEOID']==cd) & (df_kcluster['Cluster_label']==clu)]\n",
    "        m = df_k['POP100'].sum()\n",
    "        vx =0\n",
    "        vy = 0 \n",
    "        for row in df_k.iterrows():\n",
    "            vy += row[1]['POP100']*row[1]['INTPTLAT'] \n",
    "            vx += row[1]['POP100']*row[1]['INTPTLON']\n",
    "        df_k_geo = gpd.GeoDataFrame(df_k, geometry=gpd.points_from_xy(df_k.INTPTLON, df_k.INTPTLAT))\n",
    "        poly = Polygon([p for p in  df_k_geo['geometry'].tolist()])\n",
    "        kcObj[cd][str(clu)]['cx']= poly.centroid.x\n",
    "        kcObj[cd][str(clu)]['cy']= poly.centroid.y\n",
    "        kcObj[cd][str(clu)]['wy']= vy/m\n",
    "        kcObj[cd][str(clu)]['wx']= vx/m"
   ]
  },
  {
   "cell_type": "code",
   "execution_count": null,
   "metadata": {},
   "outputs": [],
   "source": [
    "dfKcc = pd.DataFrame(columns=['CD','Cluster','Center_Point','Weighted_Point'])\n",
    "for k,v in kcObj.items():\n",
    "    for i,j in v.items():\n",
    "        dfKcc = dfKcc.append({'CD':k,'Cluster':i,'Center_Point':Point(j['cx'],j['cy']),'Weighted_Point':Point(j['wx'],j['wy'])},ignore_index=True)"
   ]
  },
  {
   "cell_type": "code",
   "execution_count": null,
   "metadata": {},
   "outputs": [],
   "source": [
    "dfKcc.to_csv('kmean_point.csv')\n",
    "dfKcc.head()\n",
    "dfKcc = dfKcc.drop(columns='Center_Point')\n",
    "dfKcc = dfKcc.rename(columns={'CD':'GEOID20'})"
   ]
  },
  {
   "cell_type": "code",
   "execution_count": null,
   "metadata": {},
   "outputs": [],
   "source": [
    "dfKcc = gpd.GeoDataFrame(dfKcc, geometry='Weighted_Point')"
   ]
  },
  {
   "cell_type": "code",
   "execution_count": null,
   "metadata": {},
   "outputs": [],
   "source": [
    "dfKcc = dfKcc.set_crs('epsg:4269')"
   ]
  },
  {
   "cell_type": "code",
   "execution_count": null,
   "metadata": {},
   "outputs": [],
   "source": [
    "df_sgerry = gpd.sjoin(dfKcc, gp_CD, lsuffix='_Cluster',rsuffix='_SHP')"
   ]
  },
  {
   "cell_type": "code",
   "execution_count": null,
   "metadata": {},
   "outputs": [],
   "source": [
    "df_sgerry = df_sgerry.drop(columns=['index__SHP','INTPTLAT20','INTPTLON20','Weighted_Point'])"
   ]
  },
  {
   "cell_type": "code",
   "execution_count": null,
   "metadata": {},
   "outputs": [],
   "source": [
    "df_sgerry['gerry_check'] = False\n",
    "for i, row in df_sgerry.iterrows():\n",
    "    if row['GEOID20__Cluster'] != row['GEOID20__SHP']:\n",
    "        df_sgerry.at[i, 'gerry_check'] = True\n",
    "df_sgerry_check = df_sgerry[df_sgerry['gerry_check']==True]       "
   ]
  },
  {
   "cell_type": "code",
   "execution_count": null,
   "metadata": {},
   "outputs": [],
   "source": [
    "df_sgerry_check = df_sgerry_check.sort_values(by=['GEOID20__Cluster']).reset_index(drop=True)\n",
    "df_sgerry_check.head(len(df_sgerry_check.index))"
   ]
  },
  {
   "cell_type": "code",
   "execution_count": null,
   "metadata": {},
   "outputs": [],
   "source": []
  },
  {
   "cell_type": "code",
   "execution_count": null,
   "metadata": {},
   "outputs": [],
   "source": []
  }
 ],
 "metadata": {
  "kernelspec": {
   "display_name": "Python 3",
   "language": "python",
   "name": "python3"
  },
  "language_info": {
   "codemirror_mode": {
    "name": "ipython",
    "version": 3
   },
   "file_extension": ".py",
   "mimetype": "text/x-python",
   "name": "python",
   "nbconvert_exporter": "python",
   "pygments_lexer": "ipython3",
   "version": "3.8.5"
  }
 },
 "nbformat": 4,
 "nbformat_minor": 4
}
